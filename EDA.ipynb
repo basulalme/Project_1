{
 "cells": [
  {
   "cell_type": "code",
   "execution_count": 1,
   "outputs": [],
   "source": [
    "import  pandas as pd\n",
    "import numpy as np\n",
    "import seaborn as sns"
   ],
   "metadata": {
    "collapsed": false,
    "pycharm": {
     "name": "#%%\n"
    }
   }
  },
  {
   "cell_type": "code",
   "execution_count": 2,
   "outputs": [],
   "source": [
    "##Data Gathering"
   ],
   "metadata": {
    "collapsed": false,
    "pycharm": {
     "name": "#%%\n"
    }
   }
  },
  {
   "cell_type": "code",
   "execution_count": 3,
   "outputs": [
    {
     "data": {
      "text/plain": "                     Address   Date time  Minimum Temperature  \\\n0  Kolkata,West Bengal,India  01/01/2017                 14.0   \n1  Kolkata,West Bengal,India  01/02/2017                 16.0   \n2  Kolkata,West Bengal,India  01/03/2017                 16.0   \n3  Kolkata,West Bengal,India  01/04/2017                 16.0   \n4  Kolkata,West Bengal,India  01/05/2017                 15.0   \n\n   Maximum Temperature  Temperature  Dew Point  Relative Humidity  Heat Index  \\\n0                 25.3         19.9       16.5              82.47         NaN   \n1                 26.0         20.6       16.0              76.76         NaN   \n2                 27.0         21.1       15.6              73.12        27.3   \n3                 25.0         19.9       14.5              72.57         NaN   \n4                 25.6         19.6       13.7              71.88         NaN   \n\n   Wind Speed  Wind Gust  ...  Visibility  Cloud Cover  Sea Level Pressure  \\\n0         5.8        NaN  ...         1.2          4.9              1015.9   \n1         8.1        NaN  ...         1.4          0.3              1015.6   \n2         9.2        NaN  ...         1.6         10.7              1014.7   \n3         8.1        NaN  ...         1.8          2.3              1014.6   \n4         8.1        NaN  ...         1.9          0.0              1013.7   \n\n               Weather Type  Latitude  Longitude    Resolved Address  \\\n0  Mist, Fog, Smoke Or Haze   22.5705    88.3713  Kolkata, WB, India   \n1  Mist, Fog, Smoke Or Haze   22.5705    88.3713  Kolkata, WB, India   \n2       Mist, Smoke Or Haze   22.5705    88.3713  Kolkata, WB, India   \n3       Mist, Smoke Or Haze   22.5705    88.3713  Kolkata, WB, India   \n4       Mist, Smoke Or Haze   22.5705    88.3713  Kolkata, WB, India   \n\n                 Name Info  Conditions  \n0  Kolkata, WB, India  NaN       Clear  \n1  Kolkata, WB, India  NaN       Clear  \n2  Kolkata, WB, India  NaN       Clear  \n3  Kolkata, WB, India  NaN       Clear  \n4  Kolkata, WB, India  NaN       Clear  \n\n[5 rows x 25 columns]",
      "text/html": "<div>\n<style scoped>\n    .dataframe tbody tr th:only-of-type {\n        vertical-align: middle;\n    }\n\n    .dataframe tbody tr th {\n        vertical-align: top;\n    }\n\n    .dataframe thead th {\n        text-align: right;\n    }\n</style>\n<table border=\"1\" class=\"dataframe\">\n  <thead>\n    <tr style=\"text-align: right;\">\n      <th></th>\n      <th>Address</th>\n      <th>Date time</th>\n      <th>Minimum Temperature</th>\n      <th>Maximum Temperature</th>\n      <th>Temperature</th>\n      <th>Dew Point</th>\n      <th>Relative Humidity</th>\n      <th>Heat Index</th>\n      <th>Wind Speed</th>\n      <th>Wind Gust</th>\n      <th>...</th>\n      <th>Visibility</th>\n      <th>Cloud Cover</th>\n      <th>Sea Level Pressure</th>\n      <th>Weather Type</th>\n      <th>Latitude</th>\n      <th>Longitude</th>\n      <th>Resolved Address</th>\n      <th>Name</th>\n      <th>Info</th>\n      <th>Conditions</th>\n    </tr>\n  </thead>\n  <tbody>\n    <tr>\n      <th>0</th>\n      <td>Kolkata,West Bengal,India</td>\n      <td>01/01/2017</td>\n      <td>14.0</td>\n      <td>25.3</td>\n      <td>19.9</td>\n      <td>16.5</td>\n      <td>82.47</td>\n      <td>NaN</td>\n      <td>5.8</td>\n      <td>NaN</td>\n      <td>...</td>\n      <td>1.2</td>\n      <td>4.9</td>\n      <td>1015.9</td>\n      <td>Mist, Fog, Smoke Or Haze</td>\n      <td>22.5705</td>\n      <td>88.3713</td>\n      <td>Kolkata, WB, India</td>\n      <td>Kolkata, WB, India</td>\n      <td>NaN</td>\n      <td>Clear</td>\n    </tr>\n    <tr>\n      <th>1</th>\n      <td>Kolkata,West Bengal,India</td>\n      <td>01/02/2017</td>\n      <td>16.0</td>\n      <td>26.0</td>\n      <td>20.6</td>\n      <td>16.0</td>\n      <td>76.76</td>\n      <td>NaN</td>\n      <td>8.1</td>\n      <td>NaN</td>\n      <td>...</td>\n      <td>1.4</td>\n      <td>0.3</td>\n      <td>1015.6</td>\n      <td>Mist, Fog, Smoke Or Haze</td>\n      <td>22.5705</td>\n      <td>88.3713</td>\n      <td>Kolkata, WB, India</td>\n      <td>Kolkata, WB, India</td>\n      <td>NaN</td>\n      <td>Clear</td>\n    </tr>\n    <tr>\n      <th>2</th>\n      <td>Kolkata,West Bengal,India</td>\n      <td>01/03/2017</td>\n      <td>16.0</td>\n      <td>27.0</td>\n      <td>21.1</td>\n      <td>15.6</td>\n      <td>73.12</td>\n      <td>27.3</td>\n      <td>9.2</td>\n      <td>NaN</td>\n      <td>...</td>\n      <td>1.6</td>\n      <td>10.7</td>\n      <td>1014.7</td>\n      <td>Mist, Smoke Or Haze</td>\n      <td>22.5705</td>\n      <td>88.3713</td>\n      <td>Kolkata, WB, India</td>\n      <td>Kolkata, WB, India</td>\n      <td>NaN</td>\n      <td>Clear</td>\n    </tr>\n    <tr>\n      <th>3</th>\n      <td>Kolkata,West Bengal,India</td>\n      <td>01/04/2017</td>\n      <td>16.0</td>\n      <td>25.0</td>\n      <td>19.9</td>\n      <td>14.5</td>\n      <td>72.57</td>\n      <td>NaN</td>\n      <td>8.1</td>\n      <td>NaN</td>\n      <td>...</td>\n      <td>1.8</td>\n      <td>2.3</td>\n      <td>1014.6</td>\n      <td>Mist, Smoke Or Haze</td>\n      <td>22.5705</td>\n      <td>88.3713</td>\n      <td>Kolkata, WB, India</td>\n      <td>Kolkata, WB, India</td>\n      <td>NaN</td>\n      <td>Clear</td>\n    </tr>\n    <tr>\n      <th>4</th>\n      <td>Kolkata,West Bengal,India</td>\n      <td>01/05/2017</td>\n      <td>15.0</td>\n      <td>25.6</td>\n      <td>19.6</td>\n      <td>13.7</td>\n      <td>71.88</td>\n      <td>NaN</td>\n      <td>8.1</td>\n      <td>NaN</td>\n      <td>...</td>\n      <td>1.9</td>\n      <td>0.0</td>\n      <td>1013.7</td>\n      <td>Mist, Smoke Or Haze</td>\n      <td>22.5705</td>\n      <td>88.3713</td>\n      <td>Kolkata, WB, India</td>\n      <td>Kolkata, WB, India</td>\n      <td>NaN</td>\n      <td>Clear</td>\n    </tr>\n  </tbody>\n</table>\n<p>5 rows × 25 columns</p>\n</div>"
     },
     "execution_count": 3,
     "metadata": {},
     "output_type": "execute_result"
    }
   ],
   "source": [
    "df = pd.read_csv(\"fiveyearsweatherdata.csv\")\n",
    "df.head()"
   ],
   "metadata": {
    "collapsed": false,
    "pycharm": {
     "name": "#%%\n"
    }
   }
  },
  {
   "cell_type": "code",
   "execution_count": null,
   "outputs": [],
   "source": [],
   "metadata": {
    "collapsed": false,
    "pycharm": {
     "name": "#%%\n"
    }
   }
  }
 ],
 "metadata": {
  "kernelspec": {
   "display_name": "Python 3",
   "language": "python",
   "name": "python3"
  },
  "language_info": {
   "codemirror_mode": {
    "name": "ipython",
    "version": 2
   },
   "file_extension": ".py",
   "mimetype": "text/x-python",
   "name": "python",
   "nbconvert_exporter": "python",
   "pygments_lexer": "ipython2",
   "version": "2.7.6"
  }
 },
 "nbformat": 4,
 "nbformat_minor": 0
}